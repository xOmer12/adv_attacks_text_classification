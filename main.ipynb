{
 "cells": [
  {
   "cell_type": "code",
   "execution_count": 1,
   "metadata": {},
   "outputs": [
    {
     "name": "stderr",
     "output_type": "stream",
     "text": [
      "/home/romh/miniconda3/envs/cluster/lib/python3.10/site-packages/tqdm/auto.py:21: TqdmWarning: IProgress not found. Please update jupyter and ipywidgets. See https://ipywidgets.readthedocs.io/en/stable/user_install.html\n",
      "  from .autonotebook import tqdm as notebook_tqdm\n"
     ]
    }
   ],
   "source": [
    "import pandas as pd\n",
    "import numpy as np\n",
    "import matplotlib.pyplot as plt\n",
    "import torch\n",
    "import torch.nn as nn\n",
    "import torch.optim as optim\n",
    "from torch.utils.data import DataLoader, Dataset\n",
    "from transformers import AutoModel, AutoTokenizer\n",
    "from tqdm import tqdm"
   ]
  },
  {
   "cell_type": "code",
   "execution_count": 2,
   "metadata": {},
   "outputs": [],
   "source": [
    "train_df = pd.read_csv('data/train.csv')\n",
    "test_df = pd.read_csv('data/test.csv')\n",
    "test_labels_df = pd.read_csv('data/test_labels.csv')\n",
    "\n",
    "train_df = train_df[['id', 'comment_text', 'toxic']]\n",
    "negative_sample_train = train_df[train_df['toxic'] == 0].sample(frac=0.1)\n",
    "positive_sample_train = train_df[train_df['toxic'] == 1]\n",
    "train_df = pd.concat([negative_sample_train, positive_sample_train])\n",
    "test_labels_df = test_labels_df[['id', 'toxic']]\n",
    "\n",
    "test_df = pd.merge(test_df, test_labels_df, on='id', how='inner')\n",
    "test_df = test_df[test_df['toxic'] != -1]"
   ]
  },
  {
   "cell_type": "code",
   "execution_count": null,
   "metadata": {},
   "outputs": [],
   "source": [
    "class TextClassifier(nn.Module):\n",
    "    def __init__(self, transformer_model, freeze_transformer=True):\n",
    "        super(TextClassifier, self).__init__()\n",
    "        self.model = AutoModel.from_pretrained(transformer_model)\n",
    "        # Freeze the transformer model\n",
    "        if freeze_transformer:\n",
    "            for param in self.model.parameters():\n",
    "                param.requires_grad = False\n",
    "        self.tokenizer = AutoTokenizer.from_pretrained(transformer_model)\n",
    "        self.fc = nn.Linear(768, 1)\n",
    "        self.sigmoid = nn.Sigmoid()\n",
    "    \n",
    "    def get_static_embeddings_matrix(self):\n",
    "        return self.model.get_input_embeddings().weight\n",
    "    \n",
    "    def forward(self, input_ids=None, attention_mask=None, inputs_embeds=None):\n",
    "        outputs = self.model(input_ids=input_ids, attention_mask=attention_mask, inputs_embeds=inputs_embeds)\n",
    "        cls_token = outputs.last_hidden_state[:, 0]\n",
    "        cls_token = self.fc(cls_token)\n",
    "        return self.sigmoid(cls_token)"
   ]
  },
  {
   "cell_type": "markdown",
   "metadata": {},
   "source": [
    "## Example Embedding Manipulation"
   ]
  },
  {
   "cell_type": "code",
   "execution_count": 31,
   "metadata": {},
   "outputs": [],
   "source": [
    "device = torch.device('cuda' if torch.cuda.is_available() else 'cpu')\n",
    "model = TextClassifier('bert-base-uncased').to(device)\n",
    "\n",
    "# Example input\n",
    "suffix_len = 20\n",
    "text = \"Example input text\"\n",
    "suffix = \"!\"*suffix_len\n",
    "text = text + suffix\n",
    "inputs = model.tokenizer(text, return_tensors='pt').to(device)"
   ]
  },
  {
   "cell_type": "code",
   "execution_count": 32,
   "metadata": {},
   "outputs": [
    {
     "name": "stdout",
     "output_type": "stream",
     "text": [
      "[CLS] example input text!!!!!!!!!!!!!!!!!!!! [SEP]\n"
     ]
    }
   ],
   "source": [
    "# go back to the original text\n",
    "decoded_text = model.tokenizer.decode(inputs['input_ids'][0])\n",
    "print(decoded_text)"
   ]
  },
  {
   "cell_type": "code",
   "execution_count": 25,
   "metadata": {},
   "outputs": [
    {
     "name": "stdout",
     "output_type": "stream",
     "text": [
      "tensor([[[ 0.0000,  0.0000,  0.0000,  ...,  0.0000,  0.0000,  0.0000],\n",
      "         [ 0.0000,  0.0000,  0.0000,  ...,  0.0000,  0.0000,  0.0000],\n",
      "         [ 0.0000,  0.0000,  0.0000,  ...,  0.0000,  0.0000,  0.0000],\n",
      "         ...,\n",
      "         [ 0.0947, -1.0562,  0.2119,  ..., -2.8292,  0.5945,  1.0166],\n",
      "         [-0.5731,  1.5620, -0.7489,  ..., -0.9496, -2.4846,  1.6685],\n",
      "         [ 0.0000,  0.0000,  0.0000,  ...,  0.0000,  0.0000,  0.0000]]],\n",
      "       device='cuda:0')\n"
     ]
    }
   ],
   "source": [
    "# Step 1: Access static embeddings matrix\n",
    "embeddings_matrix = model.get_static_embeddings_matrix()\n",
    "\n",
    "# Step 2: Manually embed tokens by indexing\n",
    "with torch.no_grad():\n",
    "    inputs_embeds = embeddings_matrix[inputs['input_ids']]\n",
    "\n",
    "before_embeds = inputs_embeds.clone()\n",
    "# Add perturbation to the embeddings of the suffix\n",
    "perturbation = torch.randn((1, suffix_len, 768)).to(device)\n",
    "inputs_embeds[:, -(suffix_len+1):-1] += perturbation\n",
    "\n",
    "# Step 3: Feed manually created embeddings into model\n",
    "outputs = model(inputs_embeds=inputs_embeds, attention_mask=inputs['attention_mask'])\n",
    "\n",
    "sub = inputs_embeds - before_embeds\n",
    "print(sub)"
   ]
  },
  {
   "cell_type": "code",
   "execution_count": 39,
   "metadata": {},
   "outputs": [],
   "source": [
    "# now create the pert using gradient step\n",
    "# Step 1: Access static embeddings matrix\n",
    "embeddings_matrix = model.get_static_embeddings_matrix()\n",
    "\n",
    "# Step 2: Manually embed tokens by indexing\n",
    "with torch.no_grad():\n",
    "    inputs_embeds = embeddings_matrix[inputs['input_ids']]\n",
    "    inputs_embeds.requires_grad = True\n",
    "before_embeds = inputs_embeds.clone()\n",
    "\n",
    "# Step 3: Feed manually created embeddings into model\n",
    "outputs = model(inputs_embeds=inputs_embeds, attention_mask=inputs['attention_mask'])\n",
    "loss = nn.BCELoss()(outputs, torch.tensor([[1.0]]).to(device))\n",
    "loss.backward()"
   ]
  },
  {
   "cell_type": "code",
   "execution_count": 40,
   "metadata": {},
   "outputs": [
    {
     "name": "stdout",
     "output_type": "stream",
     "text": [
      "P: torch.Size([30522, 768])\n"
     ]
    },
    {
     "name": "stdout",
     "output_type": "stream",
     "text": [
      "PP_T: torch.Size([768, 768])\n"
     ]
    }
   ],
   "source": [
    "print(f\"P: {embeddings_matrix.shape}\")\n",
    "PP_T = embeddings_matrix.T @ embeddings_matrix\n",
    "# normalize using frobenius norm\n",
    "PP_T = PP_T / torch.norm(PP_T, p='fro')\n",
    "print(f\"PP_T: {PP_T.shape}\")"
   ]
  },
  {
   "cell_type": "code",
   "execution_count": 41,
   "metadata": {},
   "outputs": [],
   "source": [
    "# Step 4: Update embeddings with gradient using PGD\n",
    "epsilon = 0.1\n",
    "alpha = 0.01\n",
    "pert = inputs_embeds.grad\n",
    "# take only the perturbation for the suffix\n",
    "pert = pert[:, -(suffix_len+1):-1]\n",
    "# clamp the perturbation\n",
    "pert = torch.clamp(pert, -epsilon, epsilon)\n",
    "\n",
    "# pert input embeddings with gradient\n",
    "with torch.no_grad():\n",
    "    inputs_embeds[:, -(suffix_len+1):-1] += alpha * pert\n",
    "    # Project into vocabulary space using PP_T\n",
    "    inputs_embeds[:, -(suffix_len+1):-1] = torch.einsum(\n",
    "    'ij,bsj->bsi', PP_T, inputs_embeds[:, -(suffix_len+1):-1])"
   ]
  },
  {
   "cell_type": "code",
   "execution_count": 42,
   "metadata": {},
   "outputs": [
    {
     "name": "stdout",
     "output_type": "stream",
     "text": [
      "tensor([[[ 0.0000,  0.0000,  0.0000,  ...,  0.0000,  0.0000,  0.0000],\n",
      "         [ 0.0000,  0.0000,  0.0000,  ...,  0.0000,  0.0000,  0.0000],\n",
      "         [ 0.0000,  0.0000,  0.0000,  ...,  0.0000,  0.0000,  0.0000],\n",
      "         ...,\n",
      "         [-0.0365,  0.0260,  0.0249,  ..., -0.0246, -0.0293, -0.0253],\n",
      "         [-0.0365,  0.0260,  0.0249,  ..., -0.0246, -0.0293, -0.0253],\n",
      "         [ 0.0000,  0.0000,  0.0000,  ...,  0.0000,  0.0000,  0.0000]]],\n",
      "       device='cuda:0', grad_fn=<SubBackward0>)\n"
     ]
    }
   ],
   "source": [
    "sub = inputs_embeds - before_embeds\n",
    "print(sub)"
   ]
  },
  {
   "cell_type": "code",
   "execution_count": 8,
   "metadata": {},
   "outputs": [],
   "source": [
    "class TextDataset(Dataset):\n",
    "    def __init__(self, data, tokenizer):\n",
    "        self.data = data\n",
    "        self.tokenizer = tokenizer\n",
    "    \n",
    "    def __len__(self):\n",
    "        return len(self.data)\n",
    "    \n",
    "    def __getitem__(self, idx):\n",
    "        text = self.data['comment_text'].iloc[idx]\n",
    "        label = self.data['toxic'].iloc[idx]\n",
    "        inputs = self.tokenizer(text, return_tensors='pt', padding='max_length', max_length=128, truncation=True)\n",
    "        inputs['label'] = torch.tensor(label)\n",
    "        return inputs"
   ]
  },
  {
   "cell_type": "code",
   "execution_count": 9,
   "metadata": {},
   "outputs": [],
   "source": [
    "device = torch.device('cuda' if torch.cuda.is_available() else 'cpu')\n",
    "model = TextClassifier('bert-base-uncased').to(device)\n",
    "\n",
    "\n",
    "train_dataset = TextDataset(train_df, model.tokenizer)\n",
    "test_dataset = TextDataset(test_df, model.tokenizer)\n",
    "\n",
    "train_loader = DataLoader(train_dataset, batch_size=512, shuffle=True)\n",
    "test_loader = DataLoader(test_dataset, batch_size=512, shuffle=False)\n",
    "\n",
    "\n",
    "criterion = nn.BCELoss()\n",
    "optimizer = optim.Adam(model.parameters(), lr=1e-5)"
   ]
  },
  {
   "cell_type": "code",
   "execution_count": 10,
   "metadata": {},
   "outputs": [
    {
     "name": "stderr",
     "output_type": "stream",
     "text": [
      "100%|██████████| 59/59 [00:33<00:00,  1.78it/s]\n"
     ]
    },
    {
     "name": "stdout",
     "output_type": "stream",
     "text": [
      "Epoch 1/5, Loss: 0.7076968116275335\n"
     ]
    },
    {
     "name": "stderr",
     "output_type": "stream",
     "text": [
      "100%|██████████| 59/59 [00:34<00:00,  1.70it/s]\n"
     ]
    },
    {
     "name": "stdout",
     "output_type": "stream",
     "text": [
      "Epoch 2/5, Loss: 0.6995430750361944\n"
     ]
    },
    {
     "name": "stderr",
     "output_type": "stream",
     "text": [
      "100%|██████████| 59/59 [00:34<00:00,  1.70it/s]\n"
     ]
    },
    {
     "name": "stdout",
     "output_type": "stream",
     "text": [
      "Epoch 3/5, Loss: 0.6921232272002656\n"
     ]
    },
    {
     "name": "stderr",
     "output_type": "stream",
     "text": [
      "100%|██████████| 59/59 [00:34<00:00,  1.71it/s]\n"
     ]
    },
    {
     "name": "stdout",
     "output_type": "stream",
     "text": [
      "Epoch 4/5, Loss: 0.6852594927205877\n"
     ]
    },
    {
     "name": "stderr",
     "output_type": "stream",
     "text": [
      "100%|██████████| 59/59 [00:34<00:00,  1.69it/s]"
     ]
    },
    {
     "name": "stdout",
     "output_type": "stream",
     "text": [
      "Epoch 5/5, Loss: 0.6793299610331908\n"
     ]
    },
    {
     "name": "stderr",
     "output_type": "stream",
     "text": [
      "\n"
     ]
    }
   ],
   "source": [
    "for epoch in range(5):\n",
    "    model.train()\n",
    "    epoch_loss = 0\n",
    "    for batch in tqdm(train_loader):\n",
    "        input_ids = batch['input_ids'].to(device)\n",
    "        input_ids = input_ids.squeeze(1)\n",
    "        attention_mask = batch['attention_mask'].to(device)\n",
    "        attention_mask = attention_mask.view(input_ids.shape)\n",
    "        labels = batch['label'].to(device)\n",
    "        optimizer.zero_grad()\n",
    "        outputs = model(input_ids, attention_mask)\n",
    "        loss = criterion(outputs.squeeze(), labels.float())\n",
    "        loss.backward()\n",
    "        optimizer.step()\n",
    "        epoch_loss += loss.item()\n",
    "    print(f'Epoch {epoch+1}/{5}, Loss: {epoch_loss/len(train_loader)}')"
   ]
  },
  {
   "cell_type": "code",
   "execution_count": 11,
   "metadata": {},
   "outputs": [
    {
     "name": "stderr",
     "output_type": "stream",
     "text": [
      "100%|██████████| 125/125 [01:14<00:00,  1.67it/s]"
     ]
    },
    {
     "name": "stdout",
     "output_type": "stream",
     "text": [
      "Accuracy: 0.29766482228265967\n"
     ]
    },
    {
     "name": "stderr",
     "output_type": "stream",
     "text": [
      "\n"
     ]
    }
   ],
   "source": [
    "model.eval()\n",
    "with torch.no_grad():\n",
    "    correct = 0\n",
    "    total = 0\n",
    "    for batch in tqdm(test_loader):\n",
    "        input_ids = batch['input_ids'].to(device)\n",
    "        input_ids = input_ids.squeeze(1)\n",
    "        attention_mask = batch['attention_mask'].to(device)\n",
    "        attention_mask = attention_mask.view(input_ids.shape)\n",
    "        labels = batch['label'].to(device)\n",
    "        outputs = model(input_ids, attention_mask)\n",
    "        predicted = torch.round(outputs.squeeze())\n",
    "        total += labels.size(0)\n",
    "        correct += (predicted == labels).sum().item()\n",
    "    print(f'Accuracy: {correct/total}')"
   ]
  }
 ],
 "metadata": {
  "kernelspec": {
   "display_name": "cluster",
   "language": "python",
   "name": "python3"
  },
  "language_info": {
   "codemirror_mode": {
    "name": "ipython",
    "version": 3
   },
   "file_extension": ".py",
   "mimetype": "text/x-python",
   "name": "python",
   "nbconvert_exporter": "python",
   "pygments_lexer": "ipython3",
   "version": "3.10.16"
  }
 },
 "nbformat": 4,
 "nbformat_minor": 2
}
