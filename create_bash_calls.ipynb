{
 "cells": [
  {
   "cell_type": "markdown",
   "metadata": {},
   "source": [
    "# FGSM - Different Alphas"
   ]
  },
  {
   "cell_type": "code",
   "execution_count": null,
   "metadata": {},
   "outputs": [
    {
     "name": "stdout",
     "output_type": "stream",
     "text": [
      "tmux new-session -d -s FGSM_alpha_0.01 'python pipeline.py --attack=FGSM --test_frac=0.1 --alpha=0.01'\n",
      "tmux new-session -d -s FGSM_alpha_0.1 'python pipeline.py --attack=FGSM --test_frac=0.1 --alpha=0.1'\n",
      "tmux new-session -d -s FGSM_alpha_0.25 'python pipeline.py --attack=FGSM --test_frac=0.1 --alpha=0.25'\n",
      "tmux new-session -d -s FGSM_alpha_0.5 'python pipeline.py --attack=FGSM --test_frac=0.1 --alpha=0.5'\n",
      "tmux new-session -d -s FGSM_alpha_1 'python pipeline.py --attack=FGSM --test_frac=0.1 --alpha=1'\n",
      "tmux new-session -d -s FGSM_alpha_2 'python pipeline.py --attack=FGSM --test_frac=0.1 --alpha=2'\n",
      "tmux new-session -d -s FGSM_alpha_4 'python pipeline.py --attack=FGSM --test_frac=0.1 --alpha=4'\n",
      "tmux new-session -d -s FGSM_alpha_8 'python pipeline.py --attack=FGSM --test_frac=0.1 --alpha=8'\n"
     ]
    }
   ],
   "source": [
    "alphas = [1e-2, 1e-1, 0.25, 0.5, 1, 2, 4, 8]\n",
    "for alpha in alphas:\n",
    "    session_name = f\"FGSM_alpha_{alpha}\"\n",
    "    python_command = f\"python pipeline.py --attack=FGSM --test_frac=0.1 --alpha={alpha}\"\n",
    "    command = f\"tmux new-session -d -s {session_name} '{python_command}'\"\n",
    "    print(command)"
   ]
  },
  {
   "cell_type": "markdown",
   "metadata": {},
   "source": [
    "# FGSM - Different Alphas on ModernBERT"
   ]
  },
  {
   "cell_type": "code",
   "execution_count": 3,
   "metadata": {},
   "outputs": [
    {
     "name": "stdout",
     "output_type": "stream",
     "text": [
      "tmux new-session -d -s FGSM_alphas_modernBERT 'python pipeline.py --attack=FGSM --test_frac=0.1 --model_name=answerdotai/ModernBERT-base --alpha=0.1 && python pipeline.py --attack=FGSM --test_frac=0.1 --model_name=answerdotai/ModernBERT-base --alpha=0.25 && python pipeline.py --attack=FGSM --test_frac=0.1 --model_name=answerdotai/ModernBERT-base --alpha=0.5 && python pipeline.py --attack=FGSM --test_frac=0.1 --model_name=answerdotai/ModernBERT-base --alpha=1 && python pipeline.py --attack=FGSM --test_frac=0.1 --model_name=answerdotai/ModernBERT-base --alpha=2 && python pipeline.py --attack=FGSM --test_frac=0.1 --model_name=answerdotai/ModernBERT-base --alpha=4 && python pipeline.py --attack=FGSM --test_frac=0.1 --model_name=answerdotai/ModernBERT-base --alpha=8'\n"
     ]
    }
   ],
   "source": [
    "# alphas = [1e-2, 1e-1, 0.25, 0.5, 1, 2, 4, 8]\n",
    "alphas = [1e-1, 0.25, 0.5, 1, 2, 4, 8]\n",
    "session_name = \"FGSM_alphas_modernBERT\"\n",
    "python_command = \" && \".join([f\"python pipeline.py --attack=FGSM --test_frac=0.1 --model_name=answerdotai/ModernBERT-base --alpha={alpha}\" for alpha in alphas])\n",
    "command = f\"tmux new-session -d -s {session_name} '{python_command}'\"\n",
    "print(command)"
   ]
  },
  {
   "cell_type": "markdown",
   "metadata": {},
   "source": [
    "# PGD - Different Alphas\n",
    "## Run Consequently"
   ]
  },
  {
   "cell_type": "code",
   "execution_count": null,
   "metadata": {},
   "outputs": [
    {
     "name": "stdout",
     "output_type": "stream",
     "text": [
      "tmux new-session -d -s PGD_alphas 'python pipeline.py --attack=PGD --PGD_iterations=50 --test_frac=0.1 --return_iter_results=True --alpha=10 && python pipeline.py --attack=PGD --PGD_iterations=50 --test_frac=0.1 --return_iter_results=True --alpha=20 && python pipeline.py --attack=PGD --PGD_iterations=50 --test_frac=0.1 --return_iter_results=True --alpha=30'\n"
     ]
    }
   ],
   "source": [
    "# alphas = [1e-2, 1e-1, 0.25, 0.5, 1, 2, 4, 8, 10, 20, 30]\n",
    "\n",
    "session_name = \"PGD_alphas\"\n",
    "# chain commands with && to run them sequentially\n",
    "python_command = \" && \".join([f\"python pipeline.py --attack=PGD --PGD_iterations=50 --test_frac=0.1 --return_iter_results=True --alpha={alpha}\" for alpha in alphas])\n",
    "command = f\"tmux new-session -d -s {session_name} '{python_command}'\"\n",
    "print(command)"
   ]
  },
  {
   "cell_type": "markdown",
   "metadata": {},
   "source": [
    "Alphas converge around 2.0"
   ]
  },
  {
   "cell_type": "markdown",
   "metadata": {},
   "source": [
    "# PGD - different text project frequency"
   ]
  },
  {
   "cell_type": "code",
   "execution_count": null,
   "metadata": {},
   "outputs": [
    {
     "name": "stdout",
     "output_type": "stream",
     "text": [
      "tmux new-session -d -s PGD_freqs 'python pipeline.py --attack=PGD --PGD_iterations=50 --test_frac=0.1 --return_iter_results=True --alpha=2 --enable_emb_proj=True --text_proj_freq=1 && python pipeline.py --attack=PGD --PGD_iterations=50 --test_frac=0.1 --return_iter_results=True --alpha=2 --enable_emb_proj=True --text_proj_freq=5 && python pipeline.py --attack=PGD --PGD_iterations=50 --test_frac=0.1 --return_iter_results=True --alpha=2 --enable_emb_proj=True --text_proj_freq=10 && python pipeline.py --attack=PGD --PGD_iterations=50 --test_frac=0.1 --return_iter_results=True --alpha=2 --enable_emb_proj=True --text_proj_freq=15 && python pipeline.py --attack=PGD --PGD_iterations=50 --test_frac=0.1 --return_iter_results=True --alpha=2 --enable_emb_proj=True --text_proj_freq=20 && python pipeline.py --attack=PGD --PGD_iterations=50 --test_frac=0.1 --return_iter_results=True --alpha=2 --enable_emb_proj=True --text_proj_freq=25'\n"
     ]
    }
   ],
   "source": [
    "frequencies = [1, 5, 10, 15, 20, 25]\n",
    "session_name = \"PGD_freqs_with_emb_proj\"\n",
    "# chain commands with && to run them sequentially\n",
    "python_command = \" && \".join([f\"python pipeline.py --attack=PGD --PGD_iterations=50 --test_frac=0.1 --return_iter_results=True --alpha=2 --enable_emb_proj=True --text_proj_freq={freq}\" for freq in frequencies])\n",
    "command = f\"tmux new-session -d -s {session_name} '{python_command}'\"\n",
    "print(command)"
   ]
  },
  {
   "cell_type": "markdown",
   "metadata": {},
   "source": [
    "# PGD - different text project frequency in ModernBERT"
   ]
  },
  {
   "cell_type": "code",
   "execution_count": 4,
   "metadata": {},
   "outputs": [
    {
     "name": "stdout",
     "output_type": "stream",
     "text": [
      "tmux new-session -d -s PGD_freqs_with_emb_proj_ModernBERT 'python pipeline.py --attack=PGD --PGD_iterations=50 --test_frac=0.1 --return_iter_results=True --alpha=2 --enable_emb_proj=True --model_name=answerdotai/ModernBERT-base --text_proj_freq=1 && python pipeline.py --attack=PGD --PGD_iterations=50 --test_frac=0.1 --return_iter_results=True --alpha=2 --enable_emb_proj=True --model_name=answerdotai/ModernBERT-base --text_proj_freq=5 && python pipeline.py --attack=PGD --PGD_iterations=50 --test_frac=0.1 --return_iter_results=True --alpha=2 --enable_emb_proj=True --model_name=answerdotai/ModernBERT-base --text_proj_freq=10 && python pipeline.py --attack=PGD --PGD_iterations=50 --test_frac=0.1 --return_iter_results=True --alpha=2 --enable_emb_proj=True --model_name=answerdotai/ModernBERT-base --text_proj_freq=15 && python pipeline.py --attack=PGD --PGD_iterations=50 --test_frac=0.1 --return_iter_results=True --alpha=2 --enable_emb_proj=True --model_name=answerdotai/ModernBERT-base --text_proj_freq=20 && python pipeline.py --attack=PGD --PGD_iterations=50 --test_frac=0.1 --return_iter_results=True --alpha=2 --enable_emb_proj=True --model_name=answerdotai/ModernBERT-base --text_proj_freq=25'\n"
     ]
    }
   ],
   "source": [
    "frequencies = [1, 5, 10, 15, 20, 25]\n",
    "session_name = \"PGD_freqs_with_emb_proj_ModernBERT\"\n",
    "# chain commands with && to run them sequentially\n",
    "python_command = \" && \".join([f\"python pipeline.py --attack=PGD --PGD_iterations=50 --test_frac=0.1 --return_iter_results=True --alpha=2 --enable_emb_proj=True --model_name=answerdotai/ModernBERT-base --text_proj_freq={freq}\" for freq in frequencies])\n",
    "command = f\"tmux new-session -d -s {session_name} '{python_command}'\"\n",
    "print(command)"
   ]
  }
 ],
 "metadata": {
  "kernelspec": {
   "display_name": "cluster",
   "language": "python",
   "name": "python3"
  },
  "language_info": {
   "codemirror_mode": {
    "name": "ipython",
    "version": 3
   },
   "file_extension": ".py",
   "mimetype": "text/x-python",
   "name": "python",
   "nbconvert_exporter": "python",
   "pygments_lexer": "ipython3",
   "version": "3.10.16"
  }
 },
 "nbformat": 4,
 "nbformat_minor": 2
}
