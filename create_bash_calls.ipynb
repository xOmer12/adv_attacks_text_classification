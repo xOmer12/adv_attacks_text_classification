{
 "cells": [
  {
   "cell_type": "code",
   "execution_count": 3,
   "metadata": {},
   "outputs": [],
   "source": [
    "alphas = [1e-2, 1e-1, 0.25, 0.5, 1, 2, 4, 8]"
   ]
  },
  {
   "cell_type": "markdown",
   "metadata": {},
   "source": [
    "# FGSM - Different Alphas"
   ]
  },
  {
   "cell_type": "code",
   "execution_count": 4,
   "metadata": {},
   "outputs": [
    {
     "name": "stdout",
     "output_type": "stream",
     "text": [
      "tmux new-session -d -s FGSM_alpha_0.01 'python pipeline.py --attack=FGSM --test_frac=0.1 --alpha=0.01'\n",
      "tmux new-session -d -s FGSM_alpha_0.1 'python pipeline.py --attack=FGSM --test_frac=0.1 --alpha=0.1'\n",
      "tmux new-session -d -s FGSM_alpha_0.25 'python pipeline.py --attack=FGSM --test_frac=0.1 --alpha=0.25'\n",
      "tmux new-session -d -s FGSM_alpha_0.5 'python pipeline.py --attack=FGSM --test_frac=0.1 --alpha=0.5'\n",
      "tmux new-session -d -s FGSM_alpha_1 'python pipeline.py --attack=FGSM --test_frac=0.1 --alpha=1'\n",
      "tmux new-session -d -s FGSM_alpha_2 'python pipeline.py --attack=FGSM --test_frac=0.1 --alpha=2'\n",
      "tmux new-session -d -s FGSM_alpha_4 'python pipeline.py --attack=FGSM --test_frac=0.1 --alpha=4'\n",
      "tmux new-session -d -s FGSM_alpha_8 'python pipeline.py --attack=FGSM --test_frac=0.1 --alpha=8'\n"
     ]
    }
   ],
   "source": [
    "for alpha in alphas:\n",
    "    session_name = f\"FGSM_alpha_{alpha}\"\n",
    "    python_command = f\"python pipeline.py --attack=FGSM --test_frac=0.1 --alpha={alpha}\"\n",
    "    command = f\"tmux new-session -d -s {session_name} '{python_command}'\"\n",
    "    print(command)"
   ]
  },
  {
   "cell_type": "markdown",
   "metadata": {},
   "source": [
    "# PGD - Different Alphas\n",
    "## Run Consequently"
   ]
  },
  {
   "cell_type": "code",
   "execution_count": 7,
   "metadata": {},
   "outputs": [
    {
     "name": "stdout",
     "output_type": "stream",
     "text": [
      "tmux new-session -d -s PGD_alphas 'python pipeline.py --attack=PGD --PGD_iterations=50 --test_frac=0.1 --alpha=0.01 && python pipeline.py --attack=PGD --PGD_iterations=50 --test_frac=0.1 --alpha=0.1 && python pipeline.py --attack=PGD --PGD_iterations=50 --test_frac=0.1 --alpha=0.25 && python pipeline.py --attack=PGD --PGD_iterations=50 --test_frac=0.1 --alpha=0.5 && python pipeline.py --attack=PGD --PGD_iterations=50 --test_frac=0.1 --alpha=1 && python pipeline.py --attack=PGD --PGD_iterations=50 --test_frac=0.1 --alpha=2 && python pipeline.py --attack=PGD --PGD_iterations=50 --test_frac=0.1 --alpha=4 && python pipeline.py --attack=PGD --PGD_iterations=50 --test_frac=0.1 --alpha=8'\n"
     ]
    }
   ],
   "source": [
    "session_name = \"PGD_alphas\"\n",
    "# chain commands with && to run them sequentially\n",
    "python_command = \" && \".join([f\"python pipeline.py --attack=PGD --PGD_iterations=50 --test_frac=0.1 --alpha={alpha}\" for alpha in alphas])\n",
    "command = f\"tmux new-session -d -s {session_name} '{python_command}'\"\n",
    "print(command)"
   ]
  }
 ],
 "metadata": {
  "kernelspec": {
   "display_name": "cluster",
   "language": "python",
   "name": "python3"
  },
  "language_info": {
   "codemirror_mode": {
    "name": "ipython",
    "version": 3
   },
   "file_extension": ".py",
   "mimetype": "text/x-python",
   "name": "python",
   "nbconvert_exporter": "python",
   "pygments_lexer": "ipython3",
   "version": "3.10.16"
  }
 },
 "nbformat": 4,
 "nbformat_minor": 2
}
